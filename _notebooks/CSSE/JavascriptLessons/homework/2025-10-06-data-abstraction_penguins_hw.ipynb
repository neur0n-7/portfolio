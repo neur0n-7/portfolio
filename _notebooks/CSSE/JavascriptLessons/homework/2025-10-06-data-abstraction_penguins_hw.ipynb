{
 "cells": [
  {
   "cell_type": "raw",
   "id": "244ca838",
   "metadata": {
    "vscode": {
     "languageId": "raw"
    }
   },
   "source": [
    "---\n",
    "layout: post\n",
    "title: Penguins - Data Abstraction Homework\n",
    "permalink: /javascript/data-abstraction/penguins-hw\n",
    "description: Penguins group data abstraction lesson homework\n",
    "category: [JavaScript]\n",
    "author: Jonah Larsson, Aarush Bandi, Sri Rohit Varma Datla\n",
    "---"
   ]
  },
  {
   "cell_type": "markdown",
   "id": "4e3ab516",
   "metadata": {},
   "source": [
    "# Penguins JS Lessons\n",
    "\n",
    "<a href=\"https://github.com/Open-Coding-Society/pages/blob/main/_notebooks/CSSE/JavaScriptLessons/Data_Abstractions/2025-10-06-data-abstraction_penguins_hw.ipynb\" download><b>Download Homework</b></a> <br/>\n",
    "<a href=\"https://docs.google.com/forms/d/e/1FAIpQLSfwgZR0QYAg_uYuZ7XqqEm-xlU0-gZFE2dtgnKEe5kH7Yp0Vg/viewform?usp=sharing&ouid=105179298243342263196\"><b>Submission Google Form for Homework</b></a>\n",
    "\n",
    "## **Data Abstraction Homework**\n",
    "In order to learn this subject of programming well, you have to practice:\n",
    "\n",
    "> Popcorn hack 1: Data Abstraction with functions\n",
    "\n",
    "> Popcorn hack 2: Data abstraction with classes\n",
    "\n",
    "> Final Task: Building a player system using classes and functions\n",
    "\n",
    "---"
   ]
  },
  {
   "cell_type": "markdown",
   "id": "ae486711",
   "metadata": {},
   "source": [
    "## <b>Popcorn Hack 1 (Progress Check)</b>\n",
    "\n",
    "Data abstraction with functions:\n",
    "\n",
    "**Part 1:** Edit the `Account()` function to print out the username and password to the console using console.log().\n",
    "\n",
    "**Part 2:** Edit the `ChangeUsername()` function to accept a `newUsername` parameter, then set the `username` variable to the `newUsername` parameter.\n",
    "\n",
    "**Part 3:** Edit the `ChangePassword()` function to accept a `newPassword` parameter, then set the `password` variable to the `newPassword` parameter.\n",
    "\n",
    "**Part 4:** Make the `Login()` function check if the parameters `_username` and `_password` are equal to the `username` and `password` variables, then print out if the login succeeded or failed using console.log()."
   ]
  },
  {
   "cell_type": "code",
   "execution_count": null,
   "id": "ef977706",
   "metadata": {
    "vscode": {
     "languageId": "javascript"
    }
   },
   "outputs": [
    {
     "data": {
      "application/javascript": "\n// put popcorn hack 1 code here:\n\nlet username = \"Giuseppe\";\nlet password = \"giuseppe_very_awesome_password\";\n\nfunction Account()\n{\n\tconsole.log(username);\n\tconsole.log(password);\n}\n\nfunction ChangeUsername(newUsername)\n{\n\tusername = newUsername;\n}\n\nfunction ChangePassword(newPassword)\n{\n\tpassword = newPassword;\n}\n\nfunction Login(_username, _password)\n{\n\tif (_username === username && _password === password)\n\t{\n\t\tconsole.log(\"Login successful\");\n\t\treturn true;\n\t}\n\telse\n\t{\n\t\tconsole.log(\"Login failed\");\n\t\treturn false;\n\t}\n}\n\nAccount();\nLogin(\"Giuseppe\", \"giuseppe_very_awesome_password\");\nChangeUsername(\"newUser123\");\nChangePassword(\"newPass456\");\nAccount();\nLogin(\"Giuseppe\", \"giuseppe_very_awesome_password\");\nLogin(\"newUser123\", \"newPass456\");\n",
      "text/plain": [
       "<IPython.core.display.Javascript object>"
      ]
     },
     "metadata": {},
     "output_type": "display_data"
    }
   ],
   "source": [
    "%%javascript\n",
    "\n",
    "// put popcorn hack 1 code here:\n",
    "\n",
    "let username = \"Giuseppe\";\n",
    "let password = \"giuseppe_very_awesome_password\";\n",
    "\n",
    "function Account()\n",
    "{\n",
    "\tconsole.log(username);\n",
    "\tconsole.log(password);\n",
    "}\n",
    "\n",
    "function ChangeUsername(newUsername)\n",
    "{\n",
    "\tusername = newUsername;\n",
    "}\n",
    "\n",
    "function ChangePassword(newPassword)\n",
    "{\n",
    "\tpassword = newPassword;\n",
    "}\n",
    "\n",
    "function Login(_username, _password)\n",
    "{\n",
    "\tif (_username === username && _password === password)\n",
    "\t{\n",
    "\t\tconsole.log(\"Login successful\");\n",
    "\t\treturn true;\n",
    "\t}\n",
    "\telse\n",
    "\t{\n",
    "\t\tconsole.log(\"Login failed\");\n",
    "\t\treturn false;\n",
    "\t}\n",
    "}\n",
    "\n",
    "// run the stuff a few times (output is in console btw)\n",
    "Account();\n",
    "Login(\"Giuseppe\", \"giuseppe_very_awesome_password\");\n",
    "ChangeUsername(\"newUser123\");\n",
    "ChangePassword(\"newPasswd\");\n",
    "Account();\n",
    "Login(\"Giuseppe\", \"giuseppe_very_awesome_password\");\n",
    "Login(\"newUser123\", \"newPasswd\");\n"
   ]
  },
  {
   "cell_type": "markdown",
   "id": "a45fb3f1",
   "metadata": {},
   "source": [
    "---\n",
    "\n",
    "## <b>Popcorn Hack 2 (Progress Check)</b>\n",
    "\n",
    "Use the examples provided in the lesson if you're stuck.\n",
    "\n",
    "**Part 1:** Make a class named `House`\n",
    "\n",
    "**Part 2:** Make a constructor for the `House` class with the parameters cost, age, and size\n",
    "\n",
    "**Part 3:** Make an instance of the House class with the name myHouse and fill the parameters with any numbers you want.\n",
    "\n",
    "Write your code down here:"
   ]
  },
  {
   "cell_type": "code",
   "execution_count": 4,
   "id": "bb7a40cf",
   "metadata": {
    "vscode": {
     "languageId": "javascript"
    }
   },
   "outputs": [
    {
     "data": {
      "application/javascript": "\n// popcorn hack 2 code goes here:\nclass House {\n  constructor(cost, age, size) {\n    this.cost = cost;\n    this.age = age;\n    this.size = size;\n  }\n}\n\nconst myHouse = new House(250000, 10, 1800);\nconsole.log(myHouse.cost);\nconsole.log(myHouse.age);\nconsole.log(myHouse.size);\n",
      "text/plain": [
       "<IPython.core.display.Javascript object>"
      ]
     },
     "metadata": {},
     "output_type": "display_data"
    }
   ],
   "source": [
    "%%javascript\n",
    "\n",
    "// popcorn hack 2 code goes here:\n",
    "class House {\n",
    "  constructor(cost, age, size) {\n",
    "    this.cost = cost;\n",
    "    this.age = age;\n",
    "    this.size = size;\n",
    "  }\n",
    "}\n",
    "\n",
    "const myHouse = new House(250000, 10, 1800);\n",
    "console.log(myHouse.cost);\n",
    "console.log(myHouse.age);\n",
    "console.log(myHouse.size);"
   ]
  },
  {
   "cell_type": "markdown",
   "id": "de48f604",
   "metadata": {},
   "source": [
    "---\n",
    "\n",
    "## <b>Final task</b>\n",
    "\n",
    "**Part 1:** Create 2 variables in the constructor like this: this.variableName = something. \n",
    "These variables will be called: `this.positionX`, `this.velocityX`.\n",
    "\n",
    "**Part 2:** Create 2 methods called `MoveLeft()` and `MoveRight()`, <br>\n",
    "inside MoveLeft() set 'this.velocityX' to -200. <br>\n",
    "inside MoveRight() set 'this.velocityX' to 200.\n",
    "\n",
    "**Part 3:** Create a function called `UpdatePosition()`. Inside this function, add 'this.velocityX' to 'this.positionX'\n",
    "\n",
    "**Part 4:** Call each method (MoveLeft(), MoveRight(), UpdatePosition() ), on the player object."
   ]
  },
  {
   "cell_type": "code",
   "execution_count": 7,
   "id": "81c4882b",
   "metadata": {
    "vscode": {
     "languageId": "html"
    }
   },
   "outputs": [
    {
     "data": {
      "text/html": [
       "\n",
       "<div id=\"hwoutput\"></div>\n",
       "\n",
       "<script>\n",
       "(() => {\n",
       "  const output = document.getElementById(\"hwoutput\");\n",
       "  function writeOutput(msg) {\n",
       "    output.innerText += msg + \"\\n\";\n",
       "    console.log(msg);\n",
       "  }\n",
       "\n",
       "  class Player {\n",
       "    // part 1\n",
       "    constructor() {\n",
       "      this.positionX = 0;\n",
       "      this.velocityX = 0;\n",
       "      writeOutput(`Initial positionX: ${this.positionX}, velocityX: ${this.velocityX}`);\n",
       "    }\n",
       "\n",
       "    // part 2\n",
       "    MoveLeft() {\n",
       "      this.velocityX = -200;\n",
       "      writeOutput(`MoveLeft() called, velocityX set to ${this.velocityX}`);\n",
       "    }\n",
       "\n",
       "    MoveRight() {\n",
       "      this.velocityX = 200;\n",
       "      writeOutput(`MoveRight() called, velocityX set to ${this.velocityX}`);\n",
       "    }\n",
       "\n",
       "    // part  3\n",
       "    UpdatePosition() {\n",
       "      this.positionX += this.velocityX;\n",
       "      writeOutput(`UpdatePosition() called, positionX updated to ${this.positionX}`);\n",
       "    }\n",
       "  }\n",
       "\n",
       "  // part 4\n",
       "  let player = new Player();\n",
       "\n",
       "  player.MoveLeft();\n",
       "  player.MoveRight();\n",
       "  player.UpdatePosition();\n",
       "})();\n",
       "</script>\n"
      ],
      "text/plain": [
       "<IPython.core.display.HTML object>"
      ]
     },
     "metadata": {},
     "output_type": "display_data"
    }
   ],
   "source": [
    "%%html\n",
    "\n",
    "<div id=\"hwoutput\"></div>\n",
    "\n",
    "<script>\n",
    "(() => {\n",
    "  const output = document.getElementById(\"hwoutput\");\n",
    "  function writeOutput(msg) {\n",
    "    output.innerText += msg + \"\\n\";\n",
    "    console.log(msg);\n",
    "  }\n",
    "\n",
    "  class Player {\n",
    "    // part 1\n",
    "    constructor() {\n",
    "      this.positionX = 0;\n",
    "      this.velocityX = 0;\n",
    "      writeOutput(`Initial positionX: ${this.positionX}, velocityX: ${this.velocityX}`);\n",
    "    }\n",
    "\n",
    "    // part 2\n",
    "    MoveLeft() {\n",
    "      this.velocityX = -200;\n",
    "      writeOutput(`MoveLeft() called, velocityX set to ${this.velocityX}`);\n",
    "    }\n",
    "\n",
    "    MoveRight() {\n",
    "      this.velocityX = 200;\n",
    "      writeOutput(`MoveRight() called, velocityX set to ${this.velocityX}`);\n",
    "    }\n",
    "\n",
    "    // part  3\n",
    "    UpdatePosition() {\n",
    "      this.positionX += this.velocityX;\n",
    "      writeOutput(`UpdatePosition() called, positionX updated to ${this.positionX}`);\n",
    "    }\n",
    "  }\n",
    "\n",
    "  // part 4\n",
    "  let player = new Player();\n",
    "\n",
    "  player.MoveLeft();\n",
    "  player.MoveRight();\n",
    "  player.UpdatePosition();\n",
    "})();\n",
    "</script>\n"
   ]
  },
  {
   "cell_type": "markdown",
   "id": "7042352e",
   "metadata": {},
   "source": [
    "---\n",
    "\n",
    "<b>Grading</b>\n",
    "\n",
    "Popcorn Hack 1: Completion gives 0.2 points.<br/><br/>\n",
    "Popcorn Hack 2: Completion gives 0.3 points.<br/><br/>\n",
    "\n",
    "Final Task: Completion gives 0.5 points. Max of 0.02 extra points from extra work relevant to the subject or finishing assignment in a way that shows exceptional comprehension of the lesson.\n",
    "\n",
    "<br>\n",
    "<b><u>Make sure to submit your homework deployed link onto the global homework submission google sheet</u><b>\n",
    "\n",
    "<a href=\"https://docs.google.com/forms/d/e/1FAIpQLSfwgZR0QYAg_uYuZ7XqqEm-xlU0-gZFE2dtgnKEe5kH7Yp0Vg/viewform?usp=sharing&ouid=105179298243342263196\"><b>Submission Google Form for Homework</b></a>"
   ]
  }
 ],
 "metadata": {
  "kernelspec": {
   "display_name": "Python 3",
   "language": "python",
   "name": "python3"
  },
  "language_info": {
   "codemirror_mode": {
    "name": "ipython",
    "version": 3
   },
   "file_extension": ".py",
   "mimetype": "text/x-python",
   "name": "python",
   "nbconvert_exporter": "python",
   "pygments_lexer": "ipython3",
   "version": "3.12.6"
  }
 },
 "nbformat": 4,
 "nbformat_minor": 5
}
